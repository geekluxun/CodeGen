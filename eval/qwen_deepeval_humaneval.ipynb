{
 "cells": [
  {
   "metadata": {
    "ExecuteTime": {
     "end_time": "2024-08-05T02:58:55.666324Z",
     "start_time": "2024-08-05T02:49:18.525491Z"
    }
   },
   "cell_type": "code",
   "source": "!pip install -q transformers deepeval",
   "id": "e8aeefc4f823a73a",
   "outputs": [
    {
     "name": "stdout",
     "output_type": "stream",
     "text": [
      "\r\n",
      "\u001B[1m[\u001B[0m\u001B[34;49mnotice\u001B[0m\u001B[1;39;49m]\u001B[0m\u001B[39;49m A new release of pip is available: \u001B[0m\u001B[31;49m23.2.1\u001B[0m\u001B[39;49m -> \u001B[0m\u001B[32;49m24.2\u001B[0m\r\n",
      "\u001B[1m[\u001B[0m\u001B[34;49mnotice\u001B[0m\u001B[1;39;49m]\u001B[0m\u001B[39;49m To update, run: \u001B[0m\u001B[32;49mpip install --upgrade pip\u001B[0m\r\n"
     ]
    }
   ],
   "execution_count": 1
  },
  {
   "metadata": {
    "ExecuteTime": {
     "end_time": "2024-08-05T03:54:52.433806Z",
     "start_time": "2024-08-05T03:54:40.389124Z"
    }
   },
   "cell_type": "code",
   "source": [
    "from typing import List\n",
    "from transformers import AutoModelForCausalLM, AutoTokenizer\n",
    "from deepeval.models.base_model import DeepEvalBaseLLM\n",
    "\n",
    "\n",
    "class Qwen05B(DeepEvalBaseLLM):\n",
    "    def __init__(\n",
    "            self,\n",
    "            model,\n",
    "            tokenizer\n",
    "    ):\n",
    "        self.model = model\n",
    "        self.tokenizer = tokenizer\n",
    "\n",
    "    def load_model(self):\n",
    "        return self.model\n",
    "\n",
    "    def generate(self, prompt: str) -> str:\n",
    "        model = self.load_model()\n",
    "\n",
    "        device = \"cuda\"  # the device to load the model onto\n",
    "\n",
    "        model_inputs = self.tokenizer([prompt], return_tensors=\"pt\").to(device)\n",
    "        model.to(device)\n",
    "\n",
    "        generated_ids = model.generate(**model_inputs, max_new_tokens=100, do_sample=True)\n",
    "        return self.tokenizer.batch_decode(generated_ids)[0]\n",
    "\n",
    "    async def a_generate(self, prompt: str) -> str:\n",
    "        return self.generate(prompt)\n",
    "\n",
    "    # This is optional.\n",
    "    def batch_generate(self, promtps: List[str]) -> List[str]:\n",
    "        model = self.load_model()\n",
    "        device = \"cuda\"  # the device to load the model onto\n",
    "\n",
    "        model_inputs = self.tokenizer(promtps, return_tensors=\"pt\").to(device)\n",
    "        model.to(device)\n",
    "\n",
    "        generated_ids = model.generate(**model_inputs, max_new_tokens=100, do_sample=True)\n",
    "        return self.tokenizer.batch_decode(generated_ids)\n",
    "\n",
    "\n",
    "    def generate_samples(\n",
    "        self, prompt: str, n: int, temperature: float\n",
    "    ) -> Tuple[AIMessage, float]:\n",
    "        chat_model = self.load_model()\n",
    "        chat_model.a_generate\n",
    "        chat_model.n = n\n",
    "        chat_model.temperature = temperature\n",
    "        generations = chat_model._generate([HumanMessage(prompt)]).generations\n",
    "        completions = [r.text for r in generations]\n",
    "        return completions\n",
    "    def get_model_name(self):\n",
    "        return \"Qwen1.5-0.5B\"\n",
    "\n",
    "model = AutoModelForCausalLM.from_pretrained(\"Qwen/Qwen1.5-0.5B\")\n",
    "tokenizer = AutoTokenizer.from_pretrained(\"Qwen/Qwen1.5-0.5B\")\n",
    "\n",
    "qwen_05b = Qwen05B(model=model, tokenizer=tokenizer)\n",
    "print(qwen_05b(\"Write me a joke\"))"
   ],
   "id": "initial_id",
   "outputs": [
    {
     "name": "stderr",
     "output_type": "stream",
     "text": [
      "/Users/luxun/workspace/python/CodeGen/.venv/lib/python3.9/site-packages/urllib3/__init__.py:35: NotOpenSSLWarning: urllib3 v2 only supports OpenSSL 1.1.1+, currently the 'ssl' module is compiled with 'LibreSSL 2.8.3'. See: https://github.com/urllib3/urllib3/issues/3020\n",
      "  warnings.warn(\n",
      "\n",
      "KeyboardInterrupt\n",
      "\n"
     ]
    }
   ],
   "execution_count": 2
  },
  {
   "metadata": {},
   "cell_type": "code",
   "outputs": [],
   "execution_count": null,
   "source": [
    "from deepeval.benchmarks import HumanEval\n",
    "from deepeval.benchmarks.tasks import HumanEvalTask\n",
    "\n",
    "# Define benchmark with specific tasks and number of code generations\n",
    "benchmark = HumanEval(\n",
    "    tasks=[HumanEvalTask.HAS_CLOSE_ELEMENTS, HumanEvalTask.SORT_NUMBERS],\n",
    "    n=100\n",
    ")\n",
    "\n",
    "# Replace 'gpt_4' with your own custom model\n",
    "benchmark.evaluate(model=qwen_05b, k=10)\n",
    "print(benchmark.overall_score)"
   ],
   "id": "c999e4a5439436e7"
  }
 ],
 "metadata": {
  "kernelspec": {
   "display_name": "Python 3",
   "language": "python",
   "name": "python3"
  },
  "language_info": {
   "codemirror_mode": {
    "name": "ipython",
    "version": 2
   },
   "file_extension": ".py",
   "mimetype": "text/x-python",
   "name": "python",
   "nbconvert_exporter": "python",
   "pygments_lexer": "ipython2",
   "version": "2.7.6"
  }
 },
 "nbformat": 4,
 "nbformat_minor": 5
}
