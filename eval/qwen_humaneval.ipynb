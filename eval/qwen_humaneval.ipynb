{
 "cells": [
  {
   "metadata": {},
   "cell_type": "code",
   "outputs": [],
   "execution_count": null,
   "source": "!pip install -U -q transformers accelerate bitsandbytes human_eval",
   "id": "f559aeebfe6dc291"
  },
  {
   "metadata": {},
   "cell_type": "code",
   "outputs": [],
   "execution_count": null,
   "source": [
    "from transformers import AutoModelForCausalLM, AutoTokenizer, BitsAndBytesConfig\n",
    "from typing import List\n",
    "import torch\n",
    "\n",
    "model_name = \"/mnt/workspace/model/qwen05bChat\"\n",
    "max_new_tokens = 1024\n",
    "device = \"cuda\"\n",
    "model_max_length = 1024\n",
    "\n",
    "quantization_config = BitsAndBytesConfig(load_in_8bit=True)\n",
    "model = AutoModelForCausalLM.from_pretrained(\n",
    "    model_name,\n",
    "    quantization_config=quantization_config\n",
    ")\n",
    "tokenizer = AutoTokenizer.from_pretrained(model_name, model_max_length=model_max_length)\n",
    "\n",
    "\n",
    "def generate(prompts: List[str]) -> List[str]:\n",
    "    global sample_number\n",
    "    sample_number += 1\n",
    "    print(\"sample_number:\", sample_number)\n",
    "    print(len(prompts))\n",
    "    for prompt in prompts:\n",
    "        print(\"input_prompt:\", prompt)\n",
    "    model_inputs = tokenizer(prompt, return_tensors=\"pt\", truncation=True, padding=True).to(device)\n",
    "    print(\"model_inputs type:\", type(model_inputs))\n",
    "    #for modle_input in model_inputs:\n",
    "        #print(\"input_tokens shape:\", len(modle_input))\n",
    "    with torch.no_grad():\n",
    "        generated_ids = model.generate(**model_inputs, max_new_tokens=max_new_tokens, do_sample=False)\n",
    "        print(\"generated_ids shape:\",generated_ids.shape)\n",
    "    return tokenizer.batch_decode(generated_ids, skip_special_tokens=True)"
   ],
   "id": "initial_id"
  },
  {
   "metadata": {
    "ExecuteTime": {
     "end_time": "2024-08-05T07:52:40.256480Z",
     "start_time": "2024-08-05T07:52:37.250308Z"
    }
   },
   "cell_type": "code",
   "source": [
    "import time\n",
    "texts = [\"Hello, my name is\", \"\"]\n",
    "a = time.time()\n",
    "print((generate(texts)))\n",
    "b = time.time()\n",
    "c = b - a\n",
    "print(c)"
   ],
   "id": "c385cf647c205286",
   "outputs": [
    {
     "name": "stdout",
     "output_type": "stream",
     "text": [
      "3.0025339126586914\n"
     ]
    }
   ],
   "execution_count": 7
  },
  {
   "metadata": {},
   "cell_type": "code",
   "outputs": [],
   "execution_count": null,
   "source": [
    "from human_eval.data import write_jsonl, read_problems\n",
    "\n",
    "sample_number = 0\n",
    "num_samples_per_task = 1\n",
    "\n",
    "problems = read_problems()\n",
    "#print(problems)\n",
    "samples = [\n",
    "    dict(task_id=task_id, completion=generate([problems[task_id][\"prompt\"]]))\n",
    "    #for task_id in list(problems.keys())[:10]\n",
    "    for task_id in problems\n",
    "    for _ in range(num_samples_per_task)\n",
    "]\n",
    "print(\"sample size:\", len(samples))\n",
    "write_jsonl(\"samples3.jsonl\", samples)"
   ],
   "id": "b5ba325c87f90585"
  }
 ],
 "metadata": {
  "kernelspec": {
   "display_name": "Python 3",
   "language": "python",
   "name": "python3"
  },
  "language_info": {
   "codemirror_mode": {
    "name": "ipython",
    "version": 2
   },
   "file_extension": ".py",
   "mimetype": "text/x-python",
   "name": "python",
   "nbconvert_exporter": "python",
   "pygments_lexer": "ipython2",
   "version": "2.7.6"
  }
 },
 "nbformat": 4,
 "nbformat_minor": 5
}
