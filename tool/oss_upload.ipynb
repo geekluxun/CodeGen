{
 "cells": [
  {
   "cell_type": "code",
   "id": "initial_id",
   "metadata": {
    "collapsed": true
   },
   "source": [
    "!pip install -U -q git+https://github.com/aliyun/aliyun-oss-python-sdk.git\n",
    "!pip install -U -q python-dotenv"
   ],
   "outputs": [],
   "execution_count": null
  },
  {
   "metadata": {
    "ExecuteTime": {
     "end_time": "2024-08-07T02:38:32.558041Z",
     "start_time": "2024-08-07T02:38:32.409563Z"
    }
   },
   "cell_type": "code",
   "source": [
    "# -*- coding: utf-8 -*-\n",
    "import os\n",
    "import shutil\n",
    "import oss2\n",
    "from dotenv import load_dotenv\n",
    "\n",
    "# 加载 .env 文件\n",
    "load_dotenv()\n",
    "\n",
    "access_key_id = os.getenv('OSS_TEST_ACCESS_KEY_ID')\n",
    "access_key_secret = os.getenv('OSS_TEST_ACCESS_KEY_SECRET')\n",
    "bucket_name = os.getenv('BUCKET_NAME')\n",
    "endpoint = os.getenv('OSS_TEST_ENDPOINT')\n",
    "\n",
    "# 确认上面的参数都填写正确了\n",
    "for param in (access_key_id, access_key_secret, bucket_name, endpoint):\n",
    "    assert '<' not in param, '请设置参数：' + param\n",
    "\n",
    "# 创建Bucket对象，所有Object相关的接口都可以通过Bucket对象来进行\n",
    "bucket = oss2.Bucket(oss2.Auth(access_key_id, access_key_secret), endpoint, bucket_name)"
   ],
   "id": "d2cbac1f17de057b",
   "outputs": [],
   "execution_count": 5
  },
  {
   "metadata": {
    "ExecuteTime": {
     "end_time": "2024-08-07T01:34:30.245524Z",
     "start_time": "2024-08-07T01:34:29.981665Z"
    }
   },
   "cell_type": "code",
   "source": [
    "# 上传文件到oss\n",
    "with open(oss2.to_unicode('/Users/luxun/workspace/python/CodeGen/eval/1.jsonl'), 'rb') as f:\n",
    "    bucket.put_object('sample.jsonl', f)"
   ],
   "id": "b0b78567796178f3",
   "outputs": [],
   "execution_count": 2
  },
  {
   "metadata": {
    "ExecuteTime": {
     "end_time": "2024-08-07T02:38:50.922064Z",
     "start_time": "2024-08-07T02:38:50.882033Z"
    }
   },
   "cell_type": "code",
   "source": [
    "# 下载文件到本地\n",
    "with open(oss2.to_unicode('/Users/luxun/workspace/python/CodeGen/sample2.jsonl'), 'wb') as f:\n",
    "    shutil.copyfileobj(bucket.get_object('sample2.jsonl'), f)"
   ],
   "id": "ac7b3a4894099ae0",
   "outputs": [],
   "execution_count": 8
  },
  {
   "metadata": {},
   "cell_type": "code",
   "outputs": [],
   "execution_count": null,
   "source": "",
   "id": "db36d2d2dd77a79b"
  },
  {
   "metadata": {},
   "cell_type": "code",
   "outputs": [],
   "execution_count": null,
   "source": "",
   "id": "3aa333488f23c37d"
  }
 ],
 "metadata": {
  "kernelspec": {
   "display_name": "Python 3",
   "language": "python",
   "name": "python3"
  },
  "language_info": {
   "codemirror_mode": {
    "name": "ipython",
    "version": 2
   },
   "file_extension": ".py",
   "mimetype": "text/x-python",
   "name": "python",
   "nbconvert_exporter": "python",
   "pygments_lexer": "ipython2",
   "version": "2.7.6"
  }
 },
 "nbformat": 4,
 "nbformat_minor": 5
}
